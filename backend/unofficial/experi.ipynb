{
 "cells": [
  {
   "cell_type": "code",
   "execution_count": 1,
   "id": "57efc98e",
   "metadata": {},
   "outputs": [
    {
     "name": "stdout",
     "output_type": "stream",
     "text": [
      "Requirement already satisfied: langchain-community in c:\\users\\arvind\\desktop\\dtu 1st year\\aistuff\\randomprojects\\mcqgenerator\\venv\\lib\\site-packages (0.2.19)\n",
      "Requirement already satisfied: PyYAML>=5.3 in c:\\users\\arvind\\desktop\\dtu 1st year\\aistuff\\randomprojects\\mcqgenerator\\venv\\lib\\site-packages (from langchain-community) (6.0.2)\n",
      "Requirement already satisfied: SQLAlchemy<3,>=1.4 in c:\\users\\arvind\\desktop\\dtu 1st year\\aistuff\\randomprojects\\mcqgenerator\\venv\\lib\\site-packages (from langchain-community) (2.0.41)\n",
      "Requirement already satisfied: aiohttp<4.0.0,>=3.8.3 in c:\\users\\arvind\\desktop\\dtu 1st year\\aistuff\\randomprojects\\mcqgenerator\\venv\\lib\\site-packages (from langchain-community) (3.10.11)\n",
      "Requirement already satisfied: dataclasses-json<0.7,>=0.5.7 in c:\\users\\arvind\\desktop\\dtu 1st year\\aistuff\\randomprojects\\mcqgenerator\\venv\\lib\\site-packages (from langchain-community) (0.6.7)\n",
      "Requirement already satisfied: langchain<0.3.0,>=0.2.17 in c:\\users\\arvind\\desktop\\dtu 1st year\\aistuff\\randomprojects\\mcqgenerator\\venv\\lib\\site-packages (from langchain-community) (0.2.17)\n",
      "Requirement already satisfied: langchain-core<0.3.0,>=0.2.43 in c:\\users\\arvind\\desktop\\dtu 1st year\\aistuff\\randomprojects\\mcqgenerator\\venv\\lib\\site-packages (from langchain-community) (0.2.43)\n",
      "Requirement already satisfied: langsmith<0.2.0,>=0.1.112 in c:\\users\\arvind\\desktop\\dtu 1st year\\aistuff\\randomprojects\\mcqgenerator\\venv\\lib\\site-packages (from langchain-community) (0.1.147)\n",
      "Requirement already satisfied: numpy<2,>=1 in c:\\users\\arvind\\desktop\\dtu 1st year\\aistuff\\randomprojects\\mcqgenerator\\venv\\lib\\site-packages (from langchain-community) (1.23.4)\n",
      "Requirement already satisfied: requests<3,>=2 in c:\\users\\arvind\\desktop\\dtu 1st year\\aistuff\\randomprojects\\mcqgenerator\\venv\\lib\\site-packages (from langchain-community) (2.32.4)\n",
      "Requirement already satisfied: tenacity!=8.4.0,<9.0.0,>=8.1.0 in c:\\users\\arvind\\desktop\\dtu 1st year\\aistuff\\randomprojects\\mcqgenerator\\venv\\lib\\site-packages (from langchain-community) (8.5.0)\n",
      "Requirement already satisfied: aiohappyeyeballs>=2.3.0 in c:\\users\\arvind\\desktop\\dtu 1st year\\aistuff\\randomprojects\\mcqgenerator\\venv\\lib\\site-packages (from aiohttp<4.0.0,>=3.8.3->langchain-community) (2.4.4)\n",
      "Requirement already satisfied: aiosignal>=1.1.2 in c:\\users\\arvind\\desktop\\dtu 1st year\\aistuff\\randomprojects\\mcqgenerator\\venv\\lib\\site-packages (from aiohttp<4.0.0,>=3.8.3->langchain-community) (1.3.1)\n",
      "Requirement already satisfied: attrs>=17.3.0 in c:\\users\\arvind\\desktop\\dtu 1st year\\aistuff\\randomprojects\\mcqgenerator\\venv\\lib\\site-packages (from aiohttp<4.0.0,>=3.8.3->langchain-community) (25.3.0)\n",
      "Requirement already satisfied: frozenlist>=1.1.1 in c:\\users\\arvind\\desktop\\dtu 1st year\\aistuff\\randomprojects\\mcqgenerator\\venv\\lib\\site-packages (from aiohttp<4.0.0,>=3.8.3->langchain-community) (1.5.0)\n",
      "Requirement already satisfied: multidict<7.0,>=4.5 in c:\\users\\arvind\\desktop\\dtu 1st year\\aistuff\\randomprojects\\mcqgenerator\\venv\\lib\\site-packages (from aiohttp<4.0.0,>=3.8.3->langchain-community) (6.1.0)\n",
      "Requirement already satisfied: yarl<2.0,>=1.12.0 in c:\\users\\arvind\\desktop\\dtu 1st year\\aistuff\\randomprojects\\mcqgenerator\\venv\\lib\\site-packages (from aiohttp<4.0.0,>=3.8.3->langchain-community) (1.15.2)\n",
      "Requirement already satisfied: async-timeout<6.0,>=4.0 in c:\\users\\arvind\\desktop\\dtu 1st year\\aistuff\\randomprojects\\mcqgenerator\\venv\\lib\\site-packages (from aiohttp<4.0.0,>=3.8.3->langchain-community) (4.0.3)\n",
      "Requirement already satisfied: marshmallow<4.0.0,>=3.18.0 in c:\\users\\arvind\\desktop\\dtu 1st year\\aistuff\\randomprojects\\mcqgenerator\\venv\\lib\\site-packages (from dataclasses-json<0.7,>=0.5.7->langchain-community) (3.22.0)\n",
      "Requirement already satisfied: typing-inspect<1,>=0.4.0 in c:\\users\\arvind\\desktop\\dtu 1st year\\aistuff\\randomprojects\\mcqgenerator\\venv\\lib\\site-packages (from dataclasses-json<0.7,>=0.5.7->langchain-community) (0.9.0)\n",
      "Requirement already satisfied: langchain-text-splitters<0.3.0,>=0.2.0 in c:\\users\\arvind\\desktop\\dtu 1st year\\aistuff\\randomprojects\\mcqgenerator\\venv\\lib\\site-packages (from langchain<0.3.0,>=0.2.17->langchain-community) (0.2.4)\n",
      "Requirement already satisfied: pydantic<3,>=1 in c:\\users\\arvind\\desktop\\dtu 1st year\\aistuff\\randomprojects\\mcqgenerator\\venv\\lib\\site-packages (from langchain<0.3.0,>=0.2.17->langchain-community) (2.10.6)\n",
      "Requirement already satisfied: jsonpatch<2.0,>=1.33 in c:\\users\\arvind\\desktop\\dtu 1st year\\aistuff\\randomprojects\\mcqgenerator\\venv\\lib\\site-packages (from langchain-core<0.3.0,>=0.2.43->langchain-community) (1.33)\n",
      "Requirement already satisfied: packaging<25,>=23.2 in c:\\users\\arvind\\desktop\\dtu 1st year\\aistuff\\randomprojects\\mcqgenerator\\venv\\lib\\site-packages (from langchain-core<0.3.0,>=0.2.43->langchain-community) (24.2)\n",
      "Requirement already satisfied: typing-extensions>=4.7 in c:\\users\\arvind\\desktop\\dtu 1st year\\aistuff\\randomprojects\\mcqgenerator\\venv\\lib\\site-packages (from langchain-core<0.3.0,>=0.2.43->langchain-community) (4.13.2)\n",
      "Requirement already satisfied: httpx<1,>=0.23.0 in c:\\users\\arvind\\desktop\\dtu 1st year\\aistuff\\randomprojects\\mcqgenerator\\venv\\lib\\site-packages (from langsmith<0.2.0,>=0.1.112->langchain-community) (0.28.1)\n",
      "Requirement already satisfied: orjson<4.0.0,>=3.9.14 in c:\\users\\arvind\\desktop\\dtu 1st year\\aistuff\\randomprojects\\mcqgenerator\\venv\\lib\\site-packages (from langsmith<0.2.0,>=0.1.112->langchain-community) (3.10.15)\n",
      "Requirement already satisfied: requests-toolbelt<2.0.0,>=1.0.0 in c:\\users\\arvind\\desktop\\dtu 1st year\\aistuff\\randomprojects\\mcqgenerator\\venv\\lib\\site-packages (from langsmith<0.2.0,>=0.1.112->langchain-community) (1.0.0)\n",
      "Requirement already satisfied: charset_normalizer<4,>=2 in c:\\users\\arvind\\desktop\\dtu 1st year\\aistuff\\randomprojects\\mcqgenerator\\venv\\lib\\site-packages (from requests<3,>=2->langchain-community) (3.4.2)\n",
      "Requirement already satisfied: idna<4,>=2.5 in c:\\users\\arvind\\desktop\\dtu 1st year\\aistuff\\randomprojects\\mcqgenerator\\venv\\lib\\site-packages (from requests<3,>=2->langchain-community) (3.10)\n",
      "Requirement already satisfied: urllib3<3,>=1.21.1 in c:\\users\\arvind\\desktop\\dtu 1st year\\aistuff\\randomprojects\\mcqgenerator\\venv\\lib\\site-packages (from requests<3,>=2->langchain-community) (2.2.3)\n",
      "Requirement already satisfied: certifi>=2017.4.17 in c:\\users\\arvind\\desktop\\dtu 1st year\\aistuff\\randomprojects\\mcqgenerator\\venv\\lib\\site-packages (from requests<3,>=2->langchain-community) (2025.6.15)\n",
      "Requirement already satisfied: greenlet>=1 in c:\\users\\arvind\\desktop\\dtu 1st year\\aistuff\\randomprojects\\mcqgenerator\\venv\\lib\\site-packages (from SQLAlchemy<3,>=1.4->langchain-community) (3.1.1)\n",
      "Requirement already satisfied: anyio in c:\\users\\arvind\\desktop\\dtu 1st year\\aistuff\\randomprojects\\mcqgenerator\\venv\\lib\\site-packages (from httpx<1,>=0.23.0->langsmith<0.2.0,>=0.1.112->langchain-community) (4.5.2)\n",
      "Requirement already satisfied: httpcore==1.* in c:\\users\\arvind\\desktop\\dtu 1st year\\aistuff\\randomprojects\\mcqgenerator\\venv\\lib\\site-packages (from httpx<1,>=0.23.0->langsmith<0.2.0,>=0.1.112->langchain-community) (1.0.9)\n",
      "Requirement already satisfied: h11>=0.16 in c:\\users\\arvind\\desktop\\dtu 1st year\\aistuff\\randomprojects\\mcqgenerator\\venv\\lib\\site-packages (from httpcore==1.*->httpx<1,>=0.23.0->langsmith<0.2.0,>=0.1.112->langchain-community) (0.16.0)\n",
      "Requirement already satisfied: jsonpointer>=1.9 in c:\\users\\arvind\\desktop\\dtu 1st year\\aistuff\\randomprojects\\mcqgenerator\\venv\\lib\\site-packages (from jsonpatch<2.0,>=1.33->langchain-core<0.3.0,>=0.2.43->langchain-community) (3.0.0)\n",
      "Requirement already satisfied: annotated-types>=0.6.0 in c:\\users\\arvind\\desktop\\dtu 1st year\\aistuff\\randomprojects\\mcqgenerator\\venv\\lib\\site-packages (from pydantic<3,>=1->langchain<0.3.0,>=0.2.17->langchain-community) (0.7.0)\n",
      "Requirement already satisfied: pydantic-core==2.27.2 in c:\\users\\arvind\\desktop\\dtu 1st year\\aistuff\\randomprojects\\mcqgenerator\\venv\\lib\\site-packages (from pydantic<3,>=1->langchain<0.3.0,>=0.2.17->langchain-community) (2.27.2)\n",
      "Requirement already satisfied: mypy-extensions>=0.3.0 in c:\\users\\arvind\\desktop\\dtu 1st year\\aistuff\\randomprojects\\mcqgenerator\\venv\\lib\\site-packages (from typing-inspect<1,>=0.4.0->dataclasses-json<0.7,>=0.5.7->langchain-community) (1.1.0)\n",
      "Requirement already satisfied: propcache>=0.2.0 in c:\\users\\arvind\\desktop\\dtu 1st year\\aistuff\\randomprojects\\mcqgenerator\\venv\\lib\\site-packages (from yarl<2.0,>=1.12.0->aiohttp<4.0.0,>=3.8.3->langchain-community) (0.2.0)\n",
      "Requirement already satisfied: sniffio>=1.1 in c:\\users\\arvind\\desktop\\dtu 1st year\\aistuff\\randomprojects\\mcqgenerator\\venv\\lib\\site-packages (from anyio->httpx<1,>=0.23.0->langsmith<0.2.0,>=0.1.112->langchain-community) (1.3.1)\n",
      "Requirement already satisfied: exceptiongroup>=1.0.2 in c:\\users\\arvind\\desktop\\dtu 1st year\\aistuff\\randomprojects\\mcqgenerator\\venv\\lib\\site-packages (from anyio->httpx<1,>=0.23.0->langsmith<0.2.0,>=0.1.112->langchain-community) (1.3.0)\n",
      "Note: you may need to restart the kernel to use updated packages.\n"
     ]
    }
   ],
   "source": [
    "%pip install langchain-community"
   ]
  },
  {
   "cell_type": "code",
   "execution_count": 2,
   "id": "19364d6a",
   "metadata": {},
   "outputs": [],
   "source": [
    "from langchain_community.llms import Ollama\n",
    "from langchain.prompts import PromptTemplate\n",
    "from langchain.chains import LLMChain"
   ]
  },
  {
   "cell_type": "code",
   "execution_count": 8,
   "id": "b3079ce2",
   "metadata": {},
   "outputs": [],
   "source": [
    "llm = Ollama(\n",
    "    model=\"mistral:7b\",  # The model you downloaded\n",
    "    temperature=0.5,      # Controls randomness (0.0 = deterministic, 1.0 = very random)\n",
    "    base_url=\"http://localhost:11434\"  # Ollama's default URL\n",
    ")"
   ]
  },
  {
   "cell_type": "code",
   "execution_count": 11,
   "id": "610811b9",
   "metadata": {},
   "outputs": [],
   "source": [
    "JSON_FORMAT = {\n",
    "    'questions' : {\n",
    "        \"1\" : {\n",
    "            \"question\" : \"What is the capital of France?\",\n",
    "            \"options\" : {\n",
    "                \"A\" : \"Paris\",\n",
    "                \"B\" : \"London\",\n",
    "                \"C\" : \"Berlin\",\n",
    "                \"D\" : \"Madrid\"\n",
    "            },\n",
    "            \"answer\" : \"A\"\n",
    "        }\n",
    "    }\n",
    "}"
   ]
  },
  {
   "cell_type": "code",
   "execution_count": null,
   "id": "7e66efab",
   "metadata": {},
   "outputs": [
    {
     "name": "stderr",
     "output_type": "stream",
     "text": [
      "C:\\Users\\Arvind\\AppData\\Local\\Temp\\ipykernel_6820\\3804770689.py:13: LangChainDeprecationWarning: The class `LLMChain` was deprecated in LangChain 0.1.17 and will be removed in 1.0. Use RunnableSequence, e.g., `prompt | llm` instead.\n",
      "  chain = LLMChain(llm=llm, prompt=prompt_template)\n"
     ]
    }
   ],
   "source": [
    "prompt_template = PromptTemplate(\n",
    "    input_variables=[\"number\", \"context\", \"JSON_FORMAT\"],\n",
    "    template= '''\n",
    "    You are a knowledgeable and intellectual professor. Design {number} multiple choice\n",
    "    questions based on the following context:\n",
    "    {context}\n",
    "    The questions should be in the following format:\n",
    "\n",
    "    {JSON_FORMAT} \n",
    "    '''\n",
    ")\n",
    "\n",
    "chain = LLMChain(llm=llm, prompt=prompt_template)"
   ]
  },
  {
   "cell_type": "code",
   "execution_count": 18,
   "id": "ccd07326",
   "metadata": {},
   "outputs": [],
   "source": [
    "content = \"Machine learning (ML) is a subset of artificial intelligence (AI) that focuses on developing systems that can learn from data and improve their performance on specific tasks without explicit programming. It enables computers to analyze data, identify patterns, and make predictions or decisions based on those patterns. Essentially, ML allows machines to learn from experience and adapt to new situations, much like humans do. \"\n",
    "response = chain.invoke({\"number\" : 3, \"context\" : content, \"JSON_FORMAT\" : JSON_FORMAT})"
   ]
  },
  {
   "cell_type": "code",
   "execution_count": 27,
   "id": "e1392e8e",
   "metadata": {},
   "outputs": [
    {
     "name": "stdout",
     "output_type": "stream",
     "text": [
      "Here are three multiple choice questions based on the provided context:\n",
      "\n",
      "```python\n",
      "{'questions': {\n",
      "    '1': {'question': 'Which of the following is a characteristic of Machine Learning?', 'options': {'A': 'It requires explicit programming to analyze data and improve performance.', 'B': 'It enables computers to learn from experience and adapt to new situations.', 'C': 'It focuses on developing systems that can make decisions without any input or feedback.', 'D': 'It allows machines to analyze data but does not enable them to identify patterns.'}, 'answer': 'B'},\n",
      "    '2': {'question': 'Machine Learning is a subset of which field?', 'options': {'A': 'Computer Science', 'B': 'Mathematics', 'C': 'Artificial Intelligence', 'D': 'Physics'}, 'answer': 'C'},\n",
      "    '3': {'question': 'Which of the following tasks can Machine Learning systems perform without explicit programming?', 'options': {'A': 'Analyzing data and identifying patterns.', 'B': 'Creating software programs.', 'C': 'Making decisions based on those patterns.', 'D': 'All of the above'}, 'answer': 'D'}\n",
      "}}\n",
      "```\n"
     ]
    }
   ],
   "source": [
    "print(response[\"text\"].strip())"
   ]
  },
  {
   "cell_type": "code",
   "execution_count": null,
   "id": "011a49fb",
   "metadata": {},
   "outputs": [],
   "source": []
  }
 ],
 "metadata": {
  "kernelspec": {
   "display_name": "Python 3",
   "language": "python",
   "name": "python3"
  },
  "language_info": {
   "codemirror_mode": {
    "name": "ipython",
    "version": 3
   },
   "file_extension": ".py",
   "mimetype": "text/x-python",
   "name": "python",
   "nbconvert_exporter": "python",
   "pygments_lexer": "ipython3",
   "version": "3.8.20"
  }
 },
 "nbformat": 4,
 "nbformat_minor": 5
}
